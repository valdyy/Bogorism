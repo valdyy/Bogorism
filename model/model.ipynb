{
  "nbformat": 4,
  "nbformat_minor": 0,
  "metadata": {
    "colab": {
      "name": "model.ipynb",
      "provenance": [],
      "collapsed_sections": []
    },
    "kernelspec": {
      "name": "python3",
      "display_name": "Python 3"
    },
    "language_info": {
      "name": "python"
    }
  },
  "cells": [
    {
      "cell_type": "code",
      "execution_count": 1,
      "metadata": {
        "id": "F9FpVejD1RT9",
        "colab": {
          "base_uri": "https://localhost:8080/"
        },
        "outputId": "540d9ca0-c1f7-4444-fb62-515a345404fa"
      },
      "outputs": [
        {
          "output_type": "stream",
          "name": "stdout",
          "text": [
            "Looking in indexes: https://pypi.org/simple, https://us-python.pkg.dev/colab-wheels/public/simple/\n",
            "Requirement already satisfied: tensorflowjs in /usr/local/lib/python3.7/dist-packages (3.18.0)\n",
            "Requirement already satisfied: six<2,>=1.12.0 in /usr/local/lib/python3.7/dist-packages (from tensorflowjs) (1.15.0)\n",
            "Requirement already satisfied: packaging~=20.9 in /usr/local/lib/python3.7/dist-packages (from tensorflowjs) (20.9)\n",
            "Requirement already satisfied: tensorflow-hub<0.13,>=0.7.0 in /usr/local/lib/python3.7/dist-packages (from tensorflowjs) (0.12.0)\n",
            "Requirement already satisfied: tensorflow<3,>=2.1.0 in /usr/local/lib/python3.7/dist-packages (from tensorflowjs) (2.8.2+zzzcolab20220527125636)\n",
            "Requirement already satisfied: pyparsing>=2.0.2 in /usr/local/lib/python3.7/dist-packages (from packaging~=20.9->tensorflowjs) (3.0.9)\n",
            "Requirement already satisfied: tensorflow-estimator<2.9,>=2.8 in /usr/local/lib/python3.7/dist-packages (from tensorflow<3,>=2.1.0->tensorflowjs) (2.8.0)\n",
            "Requirement already satisfied: tensorboard<2.9,>=2.8 in /usr/local/lib/python3.7/dist-packages (from tensorflow<3,>=2.1.0->tensorflowjs) (2.8.0)\n",
            "Requirement already satisfied: typing-extensions>=3.6.6 in /usr/local/lib/python3.7/dist-packages (from tensorflow<3,>=2.1.0->tensorflowjs) (4.2.0)\n",
            "Requirement already satisfied: tensorflow-io-gcs-filesystem>=0.23.1 in /usr/local/lib/python3.7/dist-packages (from tensorflow<3,>=2.1.0->tensorflowjs) (0.26.0)\n",
            "Requirement already satisfied: termcolor>=1.1.0 in /usr/local/lib/python3.7/dist-packages (from tensorflow<3,>=2.1.0->tensorflowjs) (1.1.0)\n",
            "Requirement already satisfied: libclang>=9.0.1 in /usr/local/lib/python3.7/dist-packages (from tensorflow<3,>=2.1.0->tensorflowjs) (14.0.1)\n",
            "Requirement already satisfied: h5py>=2.9.0 in /usr/local/lib/python3.7/dist-packages (from tensorflow<3,>=2.1.0->tensorflowjs) (3.1.0)\n",
            "Requirement already satisfied: keras-preprocessing>=1.1.1 in /usr/local/lib/python3.7/dist-packages (from tensorflow<3,>=2.1.0->tensorflowjs) (1.1.2)\n",
            "Requirement already satisfied: gast>=0.2.1 in /usr/local/lib/python3.7/dist-packages (from tensorflow<3,>=2.1.0->tensorflowjs) (0.5.3)\n",
            "Requirement already satisfied: absl-py>=0.4.0 in /usr/local/lib/python3.7/dist-packages (from tensorflow<3,>=2.1.0->tensorflowjs) (1.0.0)\n",
            "Requirement already satisfied: protobuf<3.20,>=3.9.2 in /usr/local/lib/python3.7/dist-packages (from tensorflow<3,>=2.1.0->tensorflowjs) (3.17.3)\n",
            "Requirement already satisfied: astunparse>=1.6.0 in /usr/local/lib/python3.7/dist-packages (from tensorflow<3,>=2.1.0->tensorflowjs) (1.6.3)\n",
            "Requirement already satisfied: google-pasta>=0.1.1 in /usr/local/lib/python3.7/dist-packages (from tensorflow<3,>=2.1.0->tensorflowjs) (0.2.0)\n",
            "Requirement already satisfied: wrapt>=1.11.0 in /usr/local/lib/python3.7/dist-packages (from tensorflow<3,>=2.1.0->tensorflowjs) (1.14.1)\n",
            "Requirement already satisfied: numpy>=1.20 in /usr/local/lib/python3.7/dist-packages (from tensorflow<3,>=2.1.0->tensorflowjs) (1.21.6)\n",
            "Requirement already satisfied: grpcio<2.0,>=1.24.3 in /usr/local/lib/python3.7/dist-packages (from tensorflow<3,>=2.1.0->tensorflowjs) (1.46.3)\n",
            "Requirement already satisfied: keras<2.9,>=2.8.0rc0 in /usr/local/lib/python3.7/dist-packages (from tensorflow<3,>=2.1.0->tensorflowjs) (2.8.0)\n",
            "Requirement already satisfied: opt-einsum>=2.3.2 in /usr/local/lib/python3.7/dist-packages (from tensorflow<3,>=2.1.0->tensorflowjs) (3.3.0)\n",
            "Requirement already satisfied: flatbuffers>=1.12 in /usr/local/lib/python3.7/dist-packages (from tensorflow<3,>=2.1.0->tensorflowjs) (2.0)\n",
            "Requirement already satisfied: setuptools in /usr/local/lib/python3.7/dist-packages (from tensorflow<3,>=2.1.0->tensorflowjs) (57.4.0)\n",
            "Requirement already satisfied: wheel<1.0,>=0.23.0 in /usr/local/lib/python3.7/dist-packages (from astunparse>=1.6.0->tensorflow<3,>=2.1.0->tensorflowjs) (0.37.1)\n",
            "Requirement already satisfied: cached-property in /usr/local/lib/python3.7/dist-packages (from h5py>=2.9.0->tensorflow<3,>=2.1.0->tensorflowjs) (1.5.2)\n",
            "Requirement already satisfied: requests<3,>=2.21.0 in /usr/local/lib/python3.7/dist-packages (from tensorboard<2.9,>=2.8->tensorflow<3,>=2.1.0->tensorflowjs) (2.23.0)\n",
            "Requirement already satisfied: werkzeug>=0.11.15 in /usr/local/lib/python3.7/dist-packages (from tensorboard<2.9,>=2.8->tensorflow<3,>=2.1.0->tensorflowjs) (1.0.1)\n",
            "Requirement already satisfied: google-auth-oauthlib<0.5,>=0.4.1 in /usr/local/lib/python3.7/dist-packages (from tensorboard<2.9,>=2.8->tensorflow<3,>=2.1.0->tensorflowjs) (0.4.6)\n",
            "Requirement already satisfied: google-auth<3,>=1.6.3 in /usr/local/lib/python3.7/dist-packages (from tensorboard<2.9,>=2.8->tensorflow<3,>=2.1.0->tensorflowjs) (1.35.0)\n",
            "Requirement already satisfied: tensorboard-data-server<0.7.0,>=0.6.0 in /usr/local/lib/python3.7/dist-packages (from tensorboard<2.9,>=2.8->tensorflow<3,>=2.1.0->tensorflowjs) (0.6.1)\n",
            "Requirement already satisfied: markdown>=2.6.8 in /usr/local/lib/python3.7/dist-packages (from tensorboard<2.9,>=2.8->tensorflow<3,>=2.1.0->tensorflowjs) (3.3.7)\n",
            "Requirement already satisfied: tensorboard-plugin-wit>=1.6.0 in /usr/local/lib/python3.7/dist-packages (from tensorboard<2.9,>=2.8->tensorflow<3,>=2.1.0->tensorflowjs) (1.8.1)\n",
            "Requirement already satisfied: cachetools<5.0,>=2.0.0 in /usr/local/lib/python3.7/dist-packages (from google-auth<3,>=1.6.3->tensorboard<2.9,>=2.8->tensorflow<3,>=2.1.0->tensorflowjs) (4.2.4)\n",
            "Requirement already satisfied: pyasn1-modules>=0.2.1 in /usr/local/lib/python3.7/dist-packages (from google-auth<3,>=1.6.3->tensorboard<2.9,>=2.8->tensorflow<3,>=2.1.0->tensorflowjs) (0.2.8)\n",
            "Requirement already satisfied: rsa<5,>=3.1.4 in /usr/local/lib/python3.7/dist-packages (from google-auth<3,>=1.6.3->tensorboard<2.9,>=2.8->tensorflow<3,>=2.1.0->tensorflowjs) (4.8)\n",
            "Requirement already satisfied: requests-oauthlib>=0.7.0 in /usr/local/lib/python3.7/dist-packages (from google-auth-oauthlib<0.5,>=0.4.1->tensorboard<2.9,>=2.8->tensorflow<3,>=2.1.0->tensorflowjs) (1.3.1)\n",
            "Requirement already satisfied: importlib-metadata>=4.4 in /usr/local/lib/python3.7/dist-packages (from markdown>=2.6.8->tensorboard<2.9,>=2.8->tensorflow<3,>=2.1.0->tensorflowjs) (4.11.4)\n",
            "Requirement already satisfied: zipp>=0.5 in /usr/local/lib/python3.7/dist-packages (from importlib-metadata>=4.4->markdown>=2.6.8->tensorboard<2.9,>=2.8->tensorflow<3,>=2.1.0->tensorflowjs) (3.8.0)\n",
            "Requirement already satisfied: pyasn1<0.5.0,>=0.4.6 in /usr/local/lib/python3.7/dist-packages (from pyasn1-modules>=0.2.1->google-auth<3,>=1.6.3->tensorboard<2.9,>=2.8->tensorflow<3,>=2.1.0->tensorflowjs) (0.4.8)\n",
            "Requirement already satisfied: urllib3!=1.25.0,!=1.25.1,<1.26,>=1.21.1 in /usr/local/lib/python3.7/dist-packages (from requests<3,>=2.21.0->tensorboard<2.9,>=2.8->tensorflow<3,>=2.1.0->tensorflowjs) (1.24.3)\n",
            "Requirement already satisfied: chardet<4,>=3.0.2 in /usr/local/lib/python3.7/dist-packages (from requests<3,>=2.21.0->tensorboard<2.9,>=2.8->tensorflow<3,>=2.1.0->tensorflowjs) (3.0.4)\n",
            "Requirement already satisfied: idna<3,>=2.5 in /usr/local/lib/python3.7/dist-packages (from requests<3,>=2.21.0->tensorboard<2.9,>=2.8->tensorflow<3,>=2.1.0->tensorflowjs) (2.10)\n",
            "Requirement already satisfied: certifi>=2017.4.17 in /usr/local/lib/python3.7/dist-packages (from requests<3,>=2.21.0->tensorboard<2.9,>=2.8->tensorflow<3,>=2.1.0->tensorflowjs) (2022.5.18.1)\n",
            "Requirement already satisfied: oauthlib>=3.0.0 in /usr/local/lib/python3.7/dist-packages (from requests-oauthlib>=0.7.0->google-auth-oauthlib<0.5,>=0.4.1->tensorboard<2.9,>=2.8->tensorflow<3,>=2.1.0->tensorflowjs) (3.2.0)\n",
            "Looking in indexes: https://pypi.org/simple, https://us-python.pkg.dev/colab-wheels/public/simple/\n",
            "Requirement already satisfied: tensorflow in /usr/local/lib/python3.7/dist-packages (2.8.2+zzzcolab20220527125636)\n",
            "Requirement already satisfied: wrapt>=1.11.0 in /usr/local/lib/python3.7/dist-packages (from tensorflow) (1.14.1)\n",
            "Requirement already satisfied: numpy>=1.20 in /usr/local/lib/python3.7/dist-packages (from tensorflow) (1.21.6)\n",
            "Requirement already satisfied: grpcio<2.0,>=1.24.3 in /usr/local/lib/python3.7/dist-packages (from tensorflow) (1.46.3)\n",
            "Requirement already satisfied: tensorflow-estimator<2.9,>=2.8 in /usr/local/lib/python3.7/dist-packages (from tensorflow) (2.8.0)\n",
            "Requirement already satisfied: tensorboard<2.9,>=2.8 in /usr/local/lib/python3.7/dist-packages (from tensorflow) (2.8.0)\n",
            "Requirement already satisfied: absl-py>=0.4.0 in /usr/local/lib/python3.7/dist-packages (from tensorflow) (1.0.0)\n",
            "Requirement already satisfied: astunparse>=1.6.0 in /usr/local/lib/python3.7/dist-packages (from tensorflow) (1.6.3)\n",
            "Requirement already satisfied: six>=1.12.0 in /usr/local/lib/python3.7/dist-packages (from tensorflow) (1.15.0)\n",
            "Requirement already satisfied: libclang>=9.0.1 in /usr/local/lib/python3.7/dist-packages (from tensorflow) (14.0.1)\n",
            "Requirement already satisfied: google-pasta>=0.1.1 in /usr/local/lib/python3.7/dist-packages (from tensorflow) (0.2.0)\n",
            "Requirement already satisfied: keras-preprocessing>=1.1.1 in /usr/local/lib/python3.7/dist-packages (from tensorflow) (1.1.2)\n",
            "Requirement already satisfied: typing-extensions>=3.6.6 in /usr/local/lib/python3.7/dist-packages (from tensorflow) (4.2.0)\n",
            "Requirement already satisfied: setuptools in /usr/local/lib/python3.7/dist-packages (from tensorflow) (57.4.0)\n",
            "Requirement already satisfied: termcolor>=1.1.0 in /usr/local/lib/python3.7/dist-packages (from tensorflow) (1.1.0)\n",
            "Requirement already satisfied: tensorflow-io-gcs-filesystem>=0.23.1 in /usr/local/lib/python3.7/dist-packages (from tensorflow) (0.26.0)\n",
            "Requirement already satisfied: flatbuffers>=1.12 in /usr/local/lib/python3.7/dist-packages (from tensorflow) (2.0)\n",
            "Requirement already satisfied: protobuf<3.20,>=3.9.2 in /usr/local/lib/python3.7/dist-packages (from tensorflow) (3.17.3)\n",
            "Requirement already satisfied: h5py>=2.9.0 in /usr/local/lib/python3.7/dist-packages (from tensorflow) (3.1.0)\n",
            "Requirement already satisfied: opt-einsum>=2.3.2 in /usr/local/lib/python3.7/dist-packages (from tensorflow) (3.3.0)\n",
            "Requirement already satisfied: gast>=0.2.1 in /usr/local/lib/python3.7/dist-packages (from tensorflow) (0.5.3)\n",
            "Requirement already satisfied: keras<2.9,>=2.8.0rc0 in /usr/local/lib/python3.7/dist-packages (from tensorflow) (2.8.0)\n",
            "Requirement already satisfied: wheel<1.0,>=0.23.0 in /usr/local/lib/python3.7/dist-packages (from astunparse>=1.6.0->tensorflow) (0.37.1)\n",
            "Requirement already satisfied: cached-property in /usr/local/lib/python3.7/dist-packages (from h5py>=2.9.0->tensorflow) (1.5.2)\n",
            "Requirement already satisfied: requests<3,>=2.21.0 in /usr/local/lib/python3.7/dist-packages (from tensorboard<2.9,>=2.8->tensorflow) (2.23.0)\n",
            "Requirement already satisfied: google-auth<3,>=1.6.3 in /usr/local/lib/python3.7/dist-packages (from tensorboard<2.9,>=2.8->tensorflow) (1.35.0)\n",
            "Requirement already satisfied: google-auth-oauthlib<0.5,>=0.4.1 in /usr/local/lib/python3.7/dist-packages (from tensorboard<2.9,>=2.8->tensorflow) (0.4.6)\n",
            "Requirement already satisfied: markdown>=2.6.8 in /usr/local/lib/python3.7/dist-packages (from tensorboard<2.9,>=2.8->tensorflow) (3.3.7)\n",
            "Requirement already satisfied: werkzeug>=0.11.15 in /usr/local/lib/python3.7/dist-packages (from tensorboard<2.9,>=2.8->tensorflow) (1.0.1)\n",
            "Requirement already satisfied: tensorboard-plugin-wit>=1.6.0 in /usr/local/lib/python3.7/dist-packages (from tensorboard<2.9,>=2.8->tensorflow) (1.8.1)\n",
            "Requirement already satisfied: tensorboard-data-server<0.7.0,>=0.6.0 in /usr/local/lib/python3.7/dist-packages (from tensorboard<2.9,>=2.8->tensorflow) (0.6.1)\n",
            "Requirement already satisfied: rsa<5,>=3.1.4 in /usr/local/lib/python3.7/dist-packages (from google-auth<3,>=1.6.3->tensorboard<2.9,>=2.8->tensorflow) (4.8)\n",
            "Requirement already satisfied: cachetools<5.0,>=2.0.0 in /usr/local/lib/python3.7/dist-packages (from google-auth<3,>=1.6.3->tensorboard<2.9,>=2.8->tensorflow) (4.2.4)\n",
            "Requirement already satisfied: pyasn1-modules>=0.2.1 in /usr/local/lib/python3.7/dist-packages (from google-auth<3,>=1.6.3->tensorboard<2.9,>=2.8->tensorflow) (0.2.8)\n",
            "Requirement already satisfied: requests-oauthlib>=0.7.0 in /usr/local/lib/python3.7/dist-packages (from google-auth-oauthlib<0.5,>=0.4.1->tensorboard<2.9,>=2.8->tensorflow) (1.3.1)\n",
            "Requirement already satisfied: importlib-metadata>=4.4 in /usr/local/lib/python3.7/dist-packages (from markdown>=2.6.8->tensorboard<2.9,>=2.8->tensorflow) (4.11.4)\n",
            "Requirement already satisfied: zipp>=0.5 in /usr/local/lib/python3.7/dist-packages (from importlib-metadata>=4.4->markdown>=2.6.8->tensorboard<2.9,>=2.8->tensorflow) (3.8.0)\n",
            "Requirement already satisfied: pyasn1<0.5.0,>=0.4.6 in /usr/local/lib/python3.7/dist-packages (from pyasn1-modules>=0.2.1->google-auth<3,>=1.6.3->tensorboard<2.9,>=2.8->tensorflow) (0.4.8)\n",
            "Requirement already satisfied: idna<3,>=2.5 in /usr/local/lib/python3.7/dist-packages (from requests<3,>=2.21.0->tensorboard<2.9,>=2.8->tensorflow) (2.10)\n",
            "Requirement already satisfied: certifi>=2017.4.17 in /usr/local/lib/python3.7/dist-packages (from requests<3,>=2.21.0->tensorboard<2.9,>=2.8->tensorflow) (2022.5.18.1)\n",
            "Requirement already satisfied: urllib3!=1.25.0,!=1.25.1,<1.26,>=1.21.1 in /usr/local/lib/python3.7/dist-packages (from requests<3,>=2.21.0->tensorboard<2.9,>=2.8->tensorflow) (1.24.3)\n",
            "Requirement already satisfied: chardet<4,>=3.0.2 in /usr/local/lib/python3.7/dist-packages (from requests<3,>=2.21.0->tensorboard<2.9,>=2.8->tensorflow) (3.0.4)\n",
            "Requirement already satisfied: oauthlib>=3.0.0 in /usr/local/lib/python3.7/dist-packages (from requests-oauthlib>=0.7.0->google-auth-oauthlib<0.5,>=0.4.1->tensorboard<2.9,>=2.8->tensorflow) (3.2.0)\n"
          ]
        }
      ],
      "source": [
        "!pip install tensorflowjs\n",
        "!pip install tensorflow\n",
        "import pandas as pd\n",
        "import pickle\n",
        "import numpy as np\n",
        "import matplotlib.pyplot as plt\n",
        "from sklearn.model_selection import train_test_split\n",
        "from tensorflow.keras.models import Model \n",
        "from tensorflow.keras.layers import Input, Embedding, Dot, Flatten\n",
        "from tensorflow.keras.optimizers import Adam\n",
        "import matplotlib.pyplot as plt"
      ]
    },
    {
      "cell_type": "code",
      "source": [
        "#import data from cloud\n",
        "ratings = pd.read_csv('https://storage.googleapis.com/bogorism/dataPlaces/Rating.csv')\n",
        "Place = pd.read_csv('https://storage.googleapis.com/bogorism/dataPlaces/Place.csv')"
      ],
      "metadata": {
        "id": "0yEprYIV4JgQ"
      },
      "execution_count": 2,
      "outputs": []
    },
    {
      "cell_type": "code",
      "source": [
        "ratings.info()"
      ],
      "metadata": {
        "colab": {
          "base_uri": "https://localhost:8080/"
        },
        "id": "SYSNcTplFpE6",
        "outputId": "fbde99a2-4fdb-4291-f64d-3b628d53028c"
      },
      "execution_count": 3,
      "outputs": [
        {
          "output_type": "stream",
          "name": "stdout",
          "text": [
            "<class 'pandas.core.frame.DataFrame'>\n",
            "RangeIndex: 2768 entries, 0 to 2767\n",
            "Data columns (total 3 columns):\n",
            " #   Column         Non-Null Count  Dtype\n",
            "---  ------         --------------  -----\n",
            " 0   User_Id        2768 non-null   int64\n",
            " 1   Place_Id       2768 non-null   int64\n",
            " 2   Place_Ratings  2768 non-null   int64\n",
            "dtypes: int64(3)\n",
            "memory usage: 65.0 KB\n"
          ]
        }
      ]
    },
    {
      "cell_type": "code",
      "source": [
        "Place.info()"
      ],
      "metadata": {
        "colab": {
          "base_uri": "https://localhost:8080/"
        },
        "id": "oTDt3bDCqvE7",
        "outputId": "dfbfd4c8-8a7c-442e-f640-cb014d020b30"
      },
      "execution_count": 4,
      "outputs": [
        {
          "output_type": "stream",
          "name": "stdout",
          "text": [
            "<class 'pandas.core.frame.DataFrame'>\n",
            "RangeIndex: 120 entries, 0 to 119\n",
            "Data columns (total 9 columns):\n",
            " #   Column       Non-Null Count  Dtype  \n",
            "---  ------       --------------  -----  \n",
            " 0   Place_Id     120 non-null    int64  \n",
            " 1   Place_Name   120 non-null    object \n",
            " 2   Description  120 non-null    object \n",
            " 3   Category     120 non-null    object \n",
            " 4   City         120 non-null    object \n",
            " 5   Price        120 non-null    int64  \n",
            " 6   Rating       120 non-null    float64\n",
            " 7   Lat          120 non-null    float64\n",
            " 8   Long         120 non-null    float64\n",
            "dtypes: float64(3), int64(2), object(4)\n",
            "memory usage: 8.6+ KB\n"
          ]
        }
      ]
    },
    {
      "cell_type": "code",
      "source": [
        "n_Place = ratings.Place_Id.nunique()\n",
        "n_Users = ratings.User_Id.nunique()\n",
        "\n",
        "print(n_Place)\n",
        "print(n_Users)"
      ],
      "metadata": {
        "colab": {
          "base_uri": "https://localhost:8080/"
        },
        "id": "ij_HJITjCxhK",
        "outputId": "fb8f9d0d-da5c-405c-c9b7-0a788f391c4e"
      },
      "execution_count": 5,
      "outputs": [
        {
          "output_type": "stream",
          "name": "stdout",
          "text": [
            "120\n",
            "300\n"
          ]
        }
      ]
    },
    {
      "cell_type": "code",
      "source": [
        "#split the data to train and test\n",
        "train, test = train_test_split(ratings, test_size=0.2)"
      ],
      "metadata": {
        "id": "4xgtK4ohDawG"
      },
      "execution_count": 6,
      "outputs": []
    },
    {
      "cell_type": "code",
      "source": [
        "print(train.shape)\n",
        "print(test.shape)"
      ],
      "metadata": {
        "colab": {
          "base_uri": "https://localhost:8080/"
        },
        "id": "p6rvWQsIDkJZ",
        "outputId": "32beab9d-14ae-4845-8b73-89458237334d"
      },
      "execution_count": 7,
      "outputs": [
        {
          "output_type": "stream",
          "name": "stdout",
          "text": [
            "(2214, 3)\n",
            "(554, 3)\n"
          ]
        }
      ]
    },
    {
      "cell_type": "code",
      "source": [
        "#create a model\n",
        "Place_input = Input(shape=[1])\n",
        "user_input = Input(shape=[1])\n",
        "\n",
        "Place_embedding = Embedding(n_Place+1, 40)(Place_input)\n",
        "user_embedding = Embedding(n_Users+1, 40)(user_input)\n",
        "\n",
        "\n",
        "place_flat = Flatten()(Place_embedding)\n",
        "user_flat = Flatten()(user_embedding)\n",
        "\n",
        "output = Dot(1)([place_flat, user_flat])\n",
        "\n",
        "model = Model([Place_input, user_input], [output])"
      ],
      "metadata": {
        "id": "MUMcgM9hEqGt"
      },
      "execution_count": 8,
      "outputs": []
    },
    {
      "cell_type": "code",
      "source": [
        "#check the model\n",
        "model.summary()"
      ],
      "metadata": {
        "colab": {
          "base_uri": "https://localhost:8080/"
        },
        "id": "w7PyZ-1lI9gz",
        "outputId": "c706f218-e644-4a2d-8181-7670d6ac623f"
      },
      "execution_count": 9,
      "outputs": [
        {
          "output_type": "stream",
          "name": "stdout",
          "text": [
            "Model: \"model\"\n",
            "__________________________________________________________________________________________________\n",
            " Layer (type)                   Output Shape         Param #     Connected to                     \n",
            "==================================================================================================\n",
            " input_1 (InputLayer)           [(None, 1)]          0           []                               \n",
            "                                                                                                  \n",
            " input_2 (InputLayer)           [(None, 1)]          0           []                               \n",
            "                                                                                                  \n",
            " embedding (Embedding)          (None, 1, 40)        4840        ['input_1[0][0]']                \n",
            "                                                                                                  \n",
            " embedding_1 (Embedding)        (None, 1, 40)        12040       ['input_2[0][0]']                \n",
            "                                                                                                  \n",
            " flatten (Flatten)              (None, 40)           0           ['embedding[0][0]']              \n",
            "                                                                                                  \n",
            " flatten_1 (Flatten)            (None, 40)           0           ['embedding_1[0][0]']            \n",
            "                                                                                                  \n",
            " dot (Dot)                      (None, 1)            0           ['flatten[0][0]',                \n",
            "                                                                  'flatten_1[0][0]']              \n",
            "                                                                                                  \n",
            "==================================================================================================\n",
            "Total params: 16,880\n",
            "Trainable params: 16,880\n",
            "Non-trainable params: 0\n",
            "__________________________________________________________________________________________________\n"
          ]
        }
      ]
    },
    {
      "cell_type": "code",
      "source": [
        "#use hyperparameter \n",
        "model.compile(optimizer='adam', loss='mse')"
      ],
      "metadata": {
        "id": "tWGHZdHaJIzn"
      },
      "execution_count": 10,
      "outputs": []
    },
    {
      "cell_type": "code",
      "source": [
        "#train the data \n",
        "history = model.fit(x=[train.Place_Id, train.User_Id], y=train.Place_Ratings,\n",
        "                    validation_data=([test.Place_Id, test.User_Id], test.Place_Ratings),\n",
        "                    batch_size=128,\n",
        "                    epochs=100)"
      ],
      "metadata": {
        "colab": {
          "base_uri": "https://localhost:8080/"
        },
        "id": "ywDQtoxTJLwx",
        "outputId": "c1a946dd-0327-4369-d03f-3fd735bc8335"
      },
      "execution_count": 11,
      "outputs": [
        {
          "output_type": "stream",
          "name": "stdout",
          "text": [
            "Epoch 1/100\n",
            "18/18 [==============================] - 1s 15ms/step - loss: 11.1511 - val_loss: 11.0424\n",
            "Epoch 2/100\n",
            "18/18 [==============================] - 0s 4ms/step - loss: 11.1274 - val_loss: 11.0402\n",
            "Epoch 3/100\n",
            "18/18 [==============================] - 0s 5ms/step - loss: 11.1046 - val_loss: 11.0361\n",
            "Epoch 4/100\n",
            "18/18 [==============================] - 0s 4ms/step - loss: 11.0756 - val_loss: 11.0289\n",
            "Epoch 5/100\n",
            "18/18 [==============================] - 0s 5ms/step - loss: 11.0365 - val_loss: 11.0164\n",
            "Epoch 6/100\n",
            "18/18 [==============================] - 0s 5ms/step - loss: 10.9825 - val_loss: 10.9950\n",
            "Epoch 7/100\n",
            "18/18 [==============================] - 0s 5ms/step - loss: 10.9083 - val_loss: 10.9605\n",
            "Epoch 8/100\n",
            "18/18 [==============================] - 0s 7ms/step - loss: 10.8059 - val_loss: 10.9074\n",
            "Epoch 9/100\n",
            "18/18 [==============================] - 0s 4ms/step - loss: 10.6698 - val_loss: 10.8273\n",
            "Epoch 10/100\n",
            "18/18 [==============================] - 0s 5ms/step - loss: 10.4918 - val_loss: 10.7120\n",
            "Epoch 11/100\n",
            "18/18 [==============================] - 0s 9ms/step - loss: 10.2639 - val_loss: 10.5570\n",
            "Epoch 12/100\n",
            "18/18 [==============================] - 0s 7ms/step - loss: 9.9849 - val_loss: 10.3553\n",
            "Epoch 13/100\n",
            "18/18 [==============================] - 0s 7ms/step - loss: 9.6477 - val_loss: 10.1051\n",
            "Epoch 14/100\n",
            "18/18 [==============================] - 0s 4ms/step - loss: 9.2549 - val_loss: 9.8024\n",
            "Epoch 15/100\n",
            "18/18 [==============================] - 0s 4ms/step - loss: 8.8056 - val_loss: 9.4494\n",
            "Epoch 16/100\n",
            "18/18 [==============================] - 0s 4ms/step - loss: 8.3083 - val_loss: 9.0520\n",
            "Epoch 17/100\n",
            "18/18 [==============================] - 0s 5ms/step - loss: 7.7703 - val_loss: 8.6096\n",
            "Epoch 18/100\n",
            "18/18 [==============================] - 0s 5ms/step - loss: 7.2039 - val_loss: 8.1384\n",
            "Epoch 19/100\n",
            "18/18 [==============================] - 0s 4ms/step - loss: 6.6195 - val_loss: 7.6514\n",
            "Epoch 20/100\n",
            "18/18 [==============================] - 0s 5ms/step - loss: 6.0326 - val_loss: 7.1499\n",
            "Epoch 21/100\n",
            "18/18 [==============================] - 0s 4ms/step - loss: 5.4495 - val_loss: 6.6528\n",
            "Epoch 22/100\n",
            "18/18 [==============================] - 0s 5ms/step - loss: 4.8908 - val_loss: 6.1673\n",
            "Epoch 23/100\n",
            "18/18 [==============================] - 0s 6ms/step - loss: 4.3596 - val_loss: 5.7032\n",
            "Epoch 24/100\n",
            "18/18 [==============================] - 0s 6ms/step - loss: 3.8723 - val_loss: 5.2696\n",
            "Epoch 25/100\n",
            "18/18 [==============================] - 0s 6ms/step - loss: 3.4283 - val_loss: 4.8724\n",
            "Epoch 26/100\n",
            "18/18 [==============================] - 0s 4ms/step - loss: 3.0341 - val_loss: 4.5106\n",
            "Epoch 27/100\n",
            "18/18 [==============================] - 0s 4ms/step - loss: 2.6918 - val_loss: 4.1976\n",
            "Epoch 28/100\n",
            "18/18 [==============================] - 0s 4ms/step - loss: 2.3958 - val_loss: 3.9178\n",
            "Epoch 29/100\n",
            "18/18 [==============================] - 0s 6ms/step - loss: 2.1487 - val_loss: 3.6809\n",
            "Epoch 30/100\n",
            "18/18 [==============================] - 0s 5ms/step - loss: 1.9414 - val_loss: 3.4808\n",
            "Epoch 31/100\n",
            "18/18 [==============================] - 0s 5ms/step - loss: 1.7700 - val_loss: 3.3170\n",
            "Epoch 32/100\n",
            "18/18 [==============================] - 0s 5ms/step - loss: 1.6287 - val_loss: 3.1810\n",
            "Epoch 33/100\n",
            "18/18 [==============================] - 0s 5ms/step - loss: 1.5102 - val_loss: 3.0706\n",
            "Epoch 34/100\n",
            "18/18 [==============================] - 0s 6ms/step - loss: 1.4140 - val_loss: 2.9857\n",
            "Epoch 35/100\n",
            "18/18 [==============================] - 0s 4ms/step - loss: 1.3326 - val_loss: 2.9145\n",
            "Epoch 36/100\n",
            "18/18 [==============================] - 0s 5ms/step - loss: 1.2631 - val_loss: 2.8544\n",
            "Epoch 37/100\n",
            "18/18 [==============================] - 0s 6ms/step - loss: 1.2025 - val_loss: 2.8089\n",
            "Epoch 38/100\n",
            "18/18 [==============================] - 0s 13ms/step - loss: 1.1499 - val_loss: 2.7748\n",
            "Epoch 39/100\n",
            "18/18 [==============================] - 0s 9ms/step - loss: 1.1035 - val_loss: 2.7503\n",
            "Epoch 40/100\n",
            "18/18 [==============================] - 0s 8ms/step - loss: 1.0625 - val_loss: 2.7317\n",
            "Epoch 41/100\n",
            "18/18 [==============================] - 0s 9ms/step - loss: 1.0258 - val_loss: 2.7121\n",
            "Epoch 42/100\n",
            "18/18 [==============================] - 0s 8ms/step - loss: 0.9899 - val_loss: 2.7000\n",
            "Epoch 43/100\n",
            "18/18 [==============================] - 0s 7ms/step - loss: 0.9577 - val_loss: 2.6943\n",
            "Epoch 44/100\n",
            "18/18 [==============================] - 0s 7ms/step - loss: 0.9263 - val_loss: 2.6916\n",
            "Epoch 45/100\n",
            "18/18 [==============================] - 0s 8ms/step - loss: 0.8982 - val_loss: 2.6844\n",
            "Epoch 46/100\n",
            "18/18 [==============================] - 0s 10ms/step - loss: 0.8704 - val_loss: 2.6845\n",
            "Epoch 47/100\n",
            "18/18 [==============================] - 0s 10ms/step - loss: 0.8445 - val_loss: 2.6859\n",
            "Epoch 48/100\n",
            "18/18 [==============================] - 0s 9ms/step - loss: 0.8185 - val_loss: 2.6893\n",
            "Epoch 49/100\n",
            "18/18 [==============================] - 0s 9ms/step - loss: 0.7938 - val_loss: 2.7008\n",
            "Epoch 50/100\n",
            "18/18 [==============================] - 0s 8ms/step - loss: 0.7695 - val_loss: 2.7065\n",
            "Epoch 51/100\n",
            "18/18 [==============================] - 0s 7ms/step - loss: 0.7459 - val_loss: 2.7166\n",
            "Epoch 52/100\n",
            "18/18 [==============================] - 0s 7ms/step - loss: 0.7232 - val_loss: 2.7233\n",
            "Epoch 53/100\n",
            "18/18 [==============================] - 0s 9ms/step - loss: 0.7010 - val_loss: 2.7323\n",
            "Epoch 54/100\n",
            "18/18 [==============================] - 0s 9ms/step - loss: 0.6790 - val_loss: 2.7421\n",
            "Epoch 55/100\n",
            "18/18 [==============================] - 0s 7ms/step - loss: 0.6574 - val_loss: 2.7497\n",
            "Epoch 56/100\n",
            "18/18 [==============================] - 0s 7ms/step - loss: 0.6368 - val_loss: 2.7582\n",
            "Epoch 57/100\n",
            "18/18 [==============================] - 0s 12ms/step - loss: 0.6165 - val_loss: 2.7696\n",
            "Epoch 58/100\n",
            "18/18 [==============================] - 0s 10ms/step - loss: 0.5962 - val_loss: 2.7784\n",
            "Epoch 59/100\n",
            "18/18 [==============================] - 0s 12ms/step - loss: 0.5772 - val_loss: 2.7853\n",
            "Epoch 60/100\n",
            "18/18 [==============================] - 0s 11ms/step - loss: 0.5577 - val_loss: 2.7914\n",
            "Epoch 61/100\n",
            "18/18 [==============================] - 0s 6ms/step - loss: 0.5388 - val_loss: 2.7969\n",
            "Epoch 62/100\n",
            "18/18 [==============================] - 0s 10ms/step - loss: 0.5201 - val_loss: 2.8074\n",
            "Epoch 63/100\n",
            "18/18 [==============================] - 0s 8ms/step - loss: 0.5022 - val_loss: 2.8182\n",
            "Epoch 64/100\n",
            "18/18 [==============================] - 0s 10ms/step - loss: 0.4851 - val_loss: 2.8285\n",
            "Epoch 65/100\n",
            "18/18 [==============================] - 0s 10ms/step - loss: 0.4682 - val_loss: 2.8454\n",
            "Epoch 66/100\n",
            "18/18 [==============================] - 0s 11ms/step - loss: 0.4514 - val_loss: 2.8535\n",
            "Epoch 67/100\n",
            "18/18 [==============================] - 0s 10ms/step - loss: 0.4355 - val_loss: 2.8635\n",
            "Epoch 68/100\n",
            "18/18 [==============================] - 0s 7ms/step - loss: 0.4195 - val_loss: 2.8707\n",
            "Epoch 69/100\n",
            "18/18 [==============================] - 0s 7ms/step - loss: 0.4044 - val_loss: 2.8802\n",
            "Epoch 70/100\n",
            "18/18 [==============================] - 0s 13ms/step - loss: 0.3896 - val_loss: 2.8885\n",
            "Epoch 71/100\n",
            "18/18 [==============================] - 0s 9ms/step - loss: 0.3759 - val_loss: 2.9009\n",
            "Epoch 72/100\n",
            "18/18 [==============================] - 0s 7ms/step - loss: 0.3616 - val_loss: 2.9101\n",
            "Epoch 73/100\n",
            "18/18 [==============================] - 0s 7ms/step - loss: 0.3483 - val_loss: 2.9179\n",
            "Epoch 74/100\n",
            "18/18 [==============================] - 0s 14ms/step - loss: 0.3351 - val_loss: 2.9276\n",
            "Epoch 75/100\n",
            "18/18 [==============================] - 0s 8ms/step - loss: 0.3229 - val_loss: 2.9380\n",
            "Epoch 76/100\n",
            "18/18 [==============================] - 0s 14ms/step - loss: 0.3104 - val_loss: 2.9440\n",
            "Epoch 77/100\n",
            "18/18 [==============================] - 0s 13ms/step - loss: 0.2987 - val_loss: 2.9549\n",
            "Epoch 78/100\n",
            "18/18 [==============================] - 0s 7ms/step - loss: 0.2878 - val_loss: 2.9657\n",
            "Epoch 79/100\n",
            "18/18 [==============================] - 0s 7ms/step - loss: 0.2767 - val_loss: 2.9736\n",
            "Epoch 80/100\n",
            "18/18 [==============================] - 0s 9ms/step - loss: 0.2663 - val_loss: 2.9840\n",
            "Epoch 81/100\n",
            "18/18 [==============================] - 0s 8ms/step - loss: 0.2561 - val_loss: 2.9922\n",
            "Epoch 82/100\n",
            "18/18 [==============================] - 0s 7ms/step - loss: 0.2467 - val_loss: 3.0005\n",
            "Epoch 83/100\n",
            "18/18 [==============================] - 0s 9ms/step - loss: 0.2371 - val_loss: 3.0087\n",
            "Epoch 84/100\n",
            "18/18 [==============================] - 0s 10ms/step - loss: 0.2284 - val_loss: 3.0177\n",
            "Epoch 85/100\n",
            "18/18 [==============================] - 0s 10ms/step - loss: 0.2197 - val_loss: 3.0250\n",
            "Epoch 86/100\n",
            "18/18 [==============================] - 0s 9ms/step - loss: 0.2117 - val_loss: 3.0357\n",
            "Epoch 87/100\n",
            "18/18 [==============================] - 0s 14ms/step - loss: 0.2038 - val_loss: 3.0427\n",
            "Epoch 88/100\n",
            "18/18 [==============================] - 0s 8ms/step - loss: 0.1965 - val_loss: 3.0505\n",
            "Epoch 89/100\n",
            "18/18 [==============================] - 0s 10ms/step - loss: 0.1893 - val_loss: 3.0573\n",
            "Epoch 90/100\n",
            "18/18 [==============================] - 0s 10ms/step - loss: 0.1824 - val_loss: 3.0631\n",
            "Epoch 91/100\n",
            "18/18 [==============================] - 0s 11ms/step - loss: 0.1760 - val_loss: 3.0698\n",
            "Epoch 92/100\n",
            "18/18 [==============================] - 0s 8ms/step - loss: 0.1695 - val_loss: 3.0772\n",
            "Epoch 93/100\n",
            "18/18 [==============================] - 0s 8ms/step - loss: 0.1637 - val_loss: 3.0830\n",
            "Epoch 94/100\n",
            "18/18 [==============================] - 0s 13ms/step - loss: 0.1585 - val_loss: 3.0909\n",
            "Epoch 95/100\n",
            "18/18 [==============================] - 0s 7ms/step - loss: 0.1526 - val_loss: 3.0978\n",
            "Epoch 96/100\n",
            "18/18 [==============================] - 0s 9ms/step - loss: 0.1473 - val_loss: 3.1041\n",
            "Epoch 97/100\n",
            "18/18 [==============================] - 0s 12ms/step - loss: 0.1424 - val_loss: 3.1119\n",
            "Epoch 98/100\n",
            "18/18 [==============================] - 0s 7ms/step - loss: 0.1374 - val_loss: 3.1144\n",
            "Epoch 99/100\n",
            "18/18 [==============================] - 0s 17ms/step - loss: 0.1331 - val_loss: 3.1182\n",
            "Epoch 100/100\n",
            "18/18 [==============================] - 0s 8ms/step - loss: 0.1288 - val_loss: 3.1260\n"
          ]
        }
      ]
    },
    {
      "cell_type": "code",
      "source": [
        "#check the result as a graph \n",
        "losses = pd.DataFrame(history.history)\n",
        "plt.plot(losses)"
      ],
      "metadata": {
        "colab": {
          "base_uri": "https://localhost:8080/",
          "height": 300
        },
        "id": "DxQ8vzMcKTwi",
        "outputId": "4f744e28-c435-469d-c335-def78e355d6a"
      },
      "execution_count": 12,
      "outputs": [
        {
          "output_type": "execute_result",
          "data": {
            "text/plain": [
              "[<matplotlib.lines.Line2D at 0x7f7f495b6b50>,\n",
              " <matplotlib.lines.Line2D at 0x7f7f4d7ce710>]"
            ]
          },
          "metadata": {},
          "execution_count": 12
        },
        {
          "output_type": "display_data",
          "data": {
            "text/plain": [
              "<Figure size 432x288 with 1 Axes>"
            ],
            "image/png": "[encoded data removed]"
          },
          "metadata": {
            "needs_background": "light"
          }
        }
      ]
    },
    {
      "cell_type": "code",
      "source": [
        "#evaluate the data\n",
        "model.evaluate([test.Place_Id, test.User_Id], test.Place_Ratings)"
      ],
      "metadata": {
        "colab": {
          "base_uri": "https://localhost:8080/"
        },
        "id": "xw9nnA-XMitd",
        "outputId": "b4d254fb-ae4f-40da-b8bd-bb8f37c1acfc"
      },
      "execution_count": 13,
      "outputs": [
        {
          "output_type": "stream",
          "name": "stdout",
          "text": [
            "18/18 [==============================] - 0s 4ms/step - loss: 3.1260\n"
          ]
        },
        {
          "output_type": "execute_result",
          "data": {
            "text/plain": [
              "3.126024007797241"
            ]
          },
          "metadata": {},
          "execution_count": 13
        }
      ]
    },
    {
      "cell_type": "code",
      "source": [
        "#save the model\n",
        "model.save('model.h5')"
      ],
      "metadata": {
        "id": "yKtOu_EtPUt-"
      },
      "execution_count": 14,
      "outputs": []
    },
    {
      "cell_type": "code",
      "source": [
        "#convert the model to tensorflowjs\n",
        "!tensorflowjs_converter --input_format=keras ./model.h5 ./tfjs_model"
      ],
      "metadata": {
        "id": "dumzHxy6PjPi"
      },
      "execution_count": 15,
      "outputs": []
    },
    {
      "cell_type": "code",
      "source": [
        "#create a model as a pickle \n",
        "pickle.dump(model,open(\"model.pkl\", 'wb'))"
      ],
      "metadata": {
        "colab": {
          "base_uri": "https://localhost:8080/"
        },
        "id": "S3e654XaBvUH",
        "outputId": "bc1a2da1-9955-4832-c905-2e53c116d949"
      },
      "execution_count": 16,
      "outputs": [
        {
          "output_type": "stream",
          "name": "stdout",
          "text": [
            "INFO:tensorflow:Assets written to: ram://28417549-2799-456e-9f96-0718c54cc313/assets\n"
          ]
        }
      ]
    },
    {
      "cell_type": "code",
      "source": [
        "#try to get the recomendation result\n",
        "def get_recommendations(User_Id, Place, model):\n",
        "  places = Place.copy()\n",
        "  user_ids = np.array([User_Id] * len(places))\n",
        "  results = model([places.Place_Id.values, user_ids]).numpy().reshape(-1)\n",
        "\n",
        "  places['predicted_rating'] = pd.Series(results)\n",
        "  places = places.sort_values('predicted_rating', ascending=False)\n",
        "\n",
        "  print(f'Recommendations for user {User_Id}')\n",
        "  return places\n",
        "\n",
        "get_recommendations(2, Place, model)"
      ],
      "metadata": {
        "colab": {
          "base_uri": "https://localhost:8080/",
          "height": 441
        },
        "id": "BVKNN93wPvt5",
        "outputId": "54cdf17f-2311-4245-ee72-aba2d86d3b66"
      },
      "execution_count": 17,
      "outputs": [
        {
          "output_type": "stream",
          "name": "stdout",
          "text": [
            "Recommendations for user 2\n"
          ]
        },
        {
          "output_type": "execute_result",
          "data": {
            "text/plain": [
              "     Place_Id             Place_Name  \\\n",
              "77         78           Hiking Bocah   \n",
              "1           2             Curug Love   \n",
              "111       112      Dulang Restourant   \n",
              "90         91  Taman Bunga Nusantara   \n",
              "27         28  Taman Wisata Matahari   \n",
              "..        ...                    ...   \n",
              "113       114         The Lake House   \n",
              "107       108        Pasir Angin Pas   \n",
              "95         96           Damar Langit   \n",
              "25         26    Ski Tajur Katulampa   \n",
              "85         86          Gunung Munara   \n",
              "\n",
              "                                           Description        Category   City  \\\n",
              "77   a variety of outdoor activities with a wide ch...  Amusement Park  Bogor   \n",
              "1    This waterfall has a water flow that resembles...         Natural  Bogor   \n",
              "111  Explore all the local wisdom of Sundanese cult...           Foods  Bogor   \n",
              "90   an agro-tourism area that was created in 1992....  Amusement Park  Bogor   \n",
              "27   have fun while getting acquainted with the bea...  Amusement Park  Bogor   \n",
              "..                                                 ...             ...    ...   \n",
              "113  A place to eat surrounded by a pond in the mid...           Foods  Bogor   \n",
              "107  a beautiful place to eat that serves a variety...           Foods  Bogor   \n",
              "95   a hangout place surrounded by beautiful views ...           Foods  Bogor   \n",
              "25   This place is good place to family vacation. T...        Shopping  Bogor   \n",
              "85   This hill is a fairly popular hiking destinati...         Natural  Bogor   \n",
              "\n",
              "     Price  Rating       Lat        Long  predicted_rating  \n",
              "77   35000     4.3 -6.633071  106.837703          5.093870  \n",
              "1    10000     4.6 -7.214250  107.030780          4.698093  \n",
              "111  15000     4.2 -6.688041  106.958518          4.301346  \n",
              "90   25000     4.4 -6.727507  107.079453          4.121244  \n",
              "27   60000     4.4 -6.656141  106.916704          4.088230  \n",
              "..     ...     ...       ...         ...               ...  \n",
              "113  30000     4.6 -6.701882  106.948311          1.361300  \n",
              "107  62000     4.4 -6.645092  106.866781          1.318478  \n",
              "95       0     4.6 -6.671361  106.953943          1.237632  \n",
              "25       0     4.3 -6.622126  106.821334          1.152557  \n",
              "85   10000     4.6 -6.448393  106.627663          0.901987  \n",
              "\n",
              "[120 rows x 10 columns]"
            ],
            "text/html": [
              "\n",
              "  <div id=\"df-5a558929-2d68-48c8-98f3-081ddc0f4574\">\n",
              "    <div class=\"colab-df-container\">\n",
              "      <div>\n",
              "<style scoped>\n",
              "    .dataframe tbody tr th:only-of-type {\n",
              "        vertical-align: middle;\n",
              "    }\n",
              "\n",
              "    .dataframe tbody tr th {\n",
              "        vertical-align: top;\n",
              "    }\n",
              "\n",
              "    .dataframe thead th {\n",
              "        text-align: right;\n",
              "    }\n",
              "</style>\n",
              "<table border=\"1\" class=\"dataframe\">\n",
              "  <thead>\n",
              "    <tr style=\"text-align: right;\">\n",
              "      <th></th>\n",
              "      <th>Place_Id</th>\n",
              "      <th>Place_Name</th>\n",
              "      <th>Description</th>\n",
              "      <th>Category</th>\n",
              "      <th>City</th>\n",
              "      <th>Price</th>\n",
              "      <th>Rating</th>\n",
              "      <th>Lat</th>\n",
              "      <th>Long</th>\n",
              "      <th>predicted_rating</th>\n",
              "    </tr>\n",
              "  </thead>\n",
              "  <tbody>\n",
              "    <tr>\n",
              "      <th>77</th>\n",
              "      <td>78</td>\n",
              "      <td>Hiking Bocah</td>\n",
              "      <td>a variety of outdoor activities with a wide ch...</td>\n",
              "      <td>Amusement Park</td>\n",
              "      <td>Bogor</td>\n",
              "      <td>35000</td>\n",
              "      <td>4.3</td>\n",
              "      <td>-6.633071</td>\n",
              "      <td>106.837703</td>\n",
              "      <td>5.093870</td>\n",
              "    </tr>\n",
              "    <tr>\n",
              "      <th>1</th>\n",
              "      <td>2</td>\n",
              "      <td>Curug Love</td>\n",
              "      <td>This waterfall has a water flow that resembles...</td>\n",
              "      <td>Natural</td>\n",
              "      <td>Bogor</td>\n",
              "      <td>10000</td>\n",
              "      <td>4.6</td>\n",
              "      <td>-7.214250</td>\n",
              "      <td>107.030780</td>\n",
              "      <td>4.698093</td>\n",
              "    </tr>\n",
              "    <tr>\n",
              "      <th>111</th>\n",
              "      <td>112</td>\n",
              "      <td>Dulang Restourant</td>\n",
              "      <td>Explore all the local wisdom of Sundanese cult...</td>\n",
              "      <td>Foods</td>\n",
              "      <td>Bogor</td>\n",
              "      <td>15000</td>\n",
              "      <td>4.2</td>\n",
              "      <td>-6.688041</td>\n",
              "      <td>106.958518</td>\n",
              "      <td>4.301346</td>\n",
              "    </tr>\n",
              "    <tr>\n",
              "      <th>90</th>\n",
              "      <td>91</td>\n",
              "      <td>Taman Bunga Nusantara</td>\n",
              "      <td>an agro-tourism area that was created in 1992....</td>\n",
              "      <td>Amusement Park</td>\n",
              "      <td>Bogor</td>\n",
              "      <td>25000</td>\n",
              "      <td>4.4</td>\n",
              "      <td>-6.727507</td>\n",
              "      <td>107.079453</td>\n",
              "      <td>4.121244</td>\n",
              "    </tr>\n",
              "    <tr>\n",
              "      <th>27</th>\n",
              "      <td>28</td>\n",
              "      <td>Taman Wisata Matahari</td>\n",
              "      <td>have fun while getting acquainted with the bea...</td>\n",
              "      <td>Amusement Park</td>\n",
              "      <td>Bogor</td>\n",
              "      <td>60000</td>\n",
              "      <td>4.4</td>\n",
              "      <td>-6.656141</td>\n",
              "      <td>106.916704</td>\n",
              "      <td>4.088230</td>\n",
              "    </tr>\n",
              "    <tr>\n",
              "      <th>...</th>\n",
              "      <td>...</td>\n",
              "      <td>...</td>\n",
              "      <td>...</td>\n",
              "      <td>...</td>\n",
              "      <td>...</td>\n",
              "      <td>...</td>\n",
              "      <td>...</td>\n",
              "      <td>...</td>\n",
              "      <td>...</td>\n",
              "      <td>...</td>\n",
              "    </tr>\n",
              "    <tr>\n",
              "      <th>113</th>\n",
              "      <td>114</td>\n",
              "      <td>The Lake House</td>\n",
              "      <td>A place to eat surrounded by a pond in the mid...</td>\n",
              "      <td>Foods</td>\n",
              "      <td>Bogor</td>\n",
              "      <td>30000</td>\n",
              "      <td>4.6</td>\n",
              "      <td>-6.701882</td>\n",
              "      <td>106.948311</td>\n",
              "      <td>1.361300</td>\n",
              "    </tr>\n",
              "    <tr>\n",
              "      <th>107</th>\n",
              "      <td>108</td>\n",
              "      <td>Pasir Angin Pas</td>\n",
              "      <td>a beautiful place to eat that serves a variety...</td>\n",
              "      <td>Foods</td>\n",
              "      <td>Bogor</td>\n",
              "      <td>62000</td>\n",
              "      <td>4.4</td>\n",
              "      <td>-6.645092</td>\n",
              "      <td>106.866781</td>\n",
              "      <td>1.318478</td>\n",
              "    </tr>\n",
              "    <tr>\n",
              "      <th>95</th>\n",
              "      <td>96</td>\n",
              "      <td>Damar Langit</td>\n",
              "      <td>a hangout place surrounded by beautiful views ...</td>\n",
              "      <td>Foods</td>\n",
              "      <td>Bogor</td>\n",
              "      <td>0</td>\n",
              "      <td>4.6</td>\n",
              "      <td>-6.671361</td>\n",
              "      <td>106.953943</td>\n",
              "      <td>1.237632</td>\n",
              "    </tr>\n",
              "    <tr>\n",
              "      <th>25</th>\n",
              "      <td>26</td>\n",
              "      <td>Ski Tajur Katulampa</td>\n",
              "      <td>This place is good place to family vacation. T...</td>\n",
              "      <td>Shopping</td>\n",
              "      <td>Bogor</td>\n",
              "      <td>0</td>\n",
              "      <td>4.3</td>\n",
              "      <td>-6.622126</td>\n",
              "      <td>106.821334</td>\n",
              "      <td>1.152557</td>\n",
              "    </tr>\n",
              "    <tr>\n",
              "      <th>85</th>\n",
              "      <td>86</td>\n",
              "      <td>Gunung Munara</td>\n",
              "      <td>This hill is a fairly popular hiking destinati...</td>\n",
              "      <td>Natural</td>\n",
              "      <td>Bogor</td>\n",
              "      <td>10000</td>\n",
              "      <td>4.6</td>\n",
              "      <td>-6.448393</td>\n",
              "      <td>106.627663</td>\n",
              "      <td>0.901987</td>\n",
              "    </tr>\n",
              "  </tbody>\n",
              "</table>\n",
              "<p>120 rows × 10 columns</p>\n",
              "</div>\n",
              "      <button class=\"colab-df-convert\" onclick=\"convertToInteractive('df-5a558929-2d68-48c8-98f3-081ddc0f4574')\"\n",
              "              title=\"Convert this dataframe to an interactive table.\"\n",
              "              style=\"display:none;\">\n",
              "        \n",
              "  <svg xmlns=\"http://www.w3.org/2000/svg\" height=\"24px\"viewBox=\"0 0 24 24\"\n",
              "       width=\"24px\">\n",
              "    <path d=\"M0 0h24v24H0V0z\" fill=\"none\"/>\n",
              "    <path d=\"M18.56 5.44l.94 2.06.94-2.06 2.06-.94-2.06-.94-.94-2.06-.94 2.06-2.06.94zm-11 1L8.5 8.5l.94-2.06 2.06-.94-2.06-.94L8.5 2.5l-.94 2.06-2.06.94zm10 10l.94 2.06.94-2.06 2.06-.94-2.06-.94-.94-2.06-.94 2.06-2.06.94z\"/><path d=\"M17.41 7.96l-1.37-1.37c-.4-.4-.92-.59-1.43-.59-.52 0-1.04.2-1.43.59L10.3 9.45l-7.72 7.72c-.78.78-.78 2.05 0 2.83L4 21.41c.39.39.9.59 1.41.59.51 0 1.02-.2 1.41-.59l7.78-7.78 2.81-2.81c.8-.78.8-2.07 0-2.86zM5.41 20L4 18.59l7.72-7.72 1.47 1.35L5.41 20z\"/>\n",
              "  </svg>\n",
              "      </button>\n",
              "      \n",
              "  <style>\n",
              "    .colab-df-container {\n",
              "      display:flex;\n",
              "      flex-wrap:wrap;\n",
              "      gap: 12px;\n",
              "    }\n",
              "\n",
              "    .colab-df-convert {\n",
              "      background-color: #E8F0FE;\n",
              "      border: none;\n",
              "      border-radius: 50%;\n",
              "      cursor: pointer;\n",
              "      display: none;\n",
              "      fill: #1967D2;\n",
              "      height: 32px;\n",
              "      padding: 0 0 0 0;\n",
              "      width: 32px;\n",
              "    }\n",
              "\n",
              "    .colab-df-convert:hover {\n",
              "      background-color: #E2EBFA;\n",
              "      box-shadow: 0px 1px 2px rgba(60, 64, 67, 0.3), 0px 1px 3px 1px rgba(60, 64, 67, 0.15);\n",
              "      fill: #174EA6;\n",
              "    }\n",
              "\n",
              "    [theme=dark] .colab-df-convert {\n",
              "      background-color: #3B4455;\n",
              "      fill: #D2E3FC;\n",
              "    }\n",
              "\n",
              "    [theme=dark] .colab-df-convert:hover {\n",
              "      background-color: #434B5C;\n",
              "      box-shadow: 0px 1px 3px 1px rgba(0, 0, 0, 0.15);\n",
              "      filter: drop-shadow(0px 1px 2px rgba(0, 0, 0, 0.3));\n",
              "      fill: #FFFFFF;\n",
              "    }\n",
              "  </style>\n",
              "\n",
              "      <script>\n",
              "        const buttonEl =\n",
              "          document.querySelector('#df-5a558929-2d68-48c8-98f3-081ddc0f4574 button.colab-df-convert');\n",
              "        buttonEl.style.display =\n",
              "          google.colab.kernel.accessAllowed ? 'block' : 'none';\n",
              "\n",
              "        async function convertToInteractive(key) {\n",
              "          const element = document.querySelector('#df-5a558929-2d68-48c8-98f3-081ddc0f4574');\n",
              "          const dataTable =\n",
              "            await google.colab.kernel.invokeFunction('convertToInteractive',\n",
              "                                                     [key], {});\n",
              "          if (!dataTable) return;\n",
              "\n",
              "          const docLinkHtml = 'Like what you see? Visit the ' +\n",
              "            '<a target=\"_blank\" href=https://colab.research.google.com/notebooks/data_table.ipynb>data table notebook</a>'\n",
              "            + ' to learn more about interactive tables.';\n",
              "          element.innerHTML = '';\n",
              "          dataTable['output_type'] = 'display_data';\n",
              "          await google.colab.output.renderOutput(dataTable, element);\n",
              "          const docLink = document.createElement('div');\n",
              "          docLink.innerHTML = docLinkHtml;\n",
              "          element.appendChild(docLink);\n",
              "        }\n",
              "      </script>\n",
              "    </div>\n",
              "  </div>\n",
              "  "
            ]
          },
          "metadata": {},
          "execution_count": 17
        }
      ]
    },
    {
      "cell_type": "code",
      "source": [
        ""
      ],
      "metadata": {
        "id": "Cl0rY5aPe9KF"
      },
      "execution_count": 17,
      "outputs": []
    }
  ]
}